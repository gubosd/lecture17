{
 "cells": [
  {
   "cell_type": "markdown",
   "metadata": {},
   "source": [
    "## 신경망과 딥러닝\n",
    "# 케라스 MNIST"
   ]
  },
  {
   "cell_type": "code",
   "execution_count": 1,
   "metadata": {},
   "outputs": [],
   "source": [
    "import numpy as np\n",
    "import pandas as pd\n",
    "import matplotlib.pyplot as plt"
   ]
  },
  {
   "cell_type": "code",
   "execution_count": 2,
   "metadata": {
    "scrolled": true
   },
   "outputs": [],
   "source": [
    "import tensorflow as tf\n",
    "from tensorflow import keras"
   ]
  },
  {
   "cell_type": "code",
   "execution_count": 3,
   "metadata": {},
   "outputs": [
    {
     "data": {
      "text/plain": [
       "'2.4.0'"
      ]
     },
     "execution_count": 3,
     "metadata": {},
     "output_type": "execute_result"
    }
   ],
   "source": [
    "keras.__version__"
   ]
  },
  {
   "cell_type": "markdown",
   "metadata": {},
   "source": [
    "### MNIST 불러오기\n",
    "- C:\\Users\\\\[사용자아이디]\\\\.keras\\datasets\\mnist.npz 에 저장됨"
   ]
  },
  {
   "cell_type": "code",
   "execution_count": 4,
   "metadata": {},
   "outputs": [
    {
     "data": {
      "text/plain": [
       "((60000, 28, 28), (60000,), (10000, 28, 28), (10000,))"
      ]
     },
     "execution_count": 4,
     "metadata": {},
     "output_type": "execute_result"
    }
   ],
   "source": [
    "(X_train, y_train), (X_test, y_test) = keras.datasets.mnist.load_data()\n",
    "X_train.shape, y_train.shape, X_test.shape, y_test.shape"
   ]
  },
  {
   "cell_type": "code",
   "execution_count": 5,
   "metadata": {},
   "outputs": [
    {
     "data": {
      "text/plain": [
       "(255, 0, dtype('uint8'))"
      ]
     },
     "execution_count": 5,
     "metadata": {},
     "output_type": "execute_result"
    }
   ],
   "source": [
    "X_train.max(), X_train.min(), X_train.dtype"
   ]
  },
  {
   "cell_type": "code",
   "execution_count": 7,
   "metadata": {},
   "outputs": [
    {
     "data": {
      "text/plain": [
       "<matplotlib.image.AxesImage at 0x13f353a4308>"
      ]
     },
     "execution_count": 7,
     "metadata": {},
     "output_type": "execute_result"
    },
    {
     "data": {
      "image/png": "[encoded data removed]",
      "text/plain": [
       "<Figure size 432x288 with 1 Axes>"
      ]
     },
     "metadata": {
      "needs_background": "light"
     },
     "output_type": "display_data"
    }
   ],
   "source": [
    "plt.imshow(X_train[-1], cmap='gray_r')"
   ]
  },
  {
   "cell_type": "code",
   "execution_count": 8,
   "metadata": {},
   "outputs": [
    {
     "data": {
      "text/plain": [
       "array([5, 0, 4, ..., 5, 6, 8], dtype=uint8)"
      ]
     },
     "execution_count": 8,
     "metadata": {},
     "output_type": "execute_result"
    }
   ],
   "source": [
    "y_train"
   ]
  },
  {
   "cell_type": "markdown",
   "metadata": {},
   "source": [
    "### 데이터 전처리\n",
    "- 이미지를 1차원으로 풀고, 최대값이 1이 되게 실수값으로 바꾼다\n",
    "- 목표값을 원핫인코딩으로 바꾼다"
   ]
  },
  {
   "cell_type": "code",
   "execution_count": 10,
   "metadata": {},
   "outputs": [
    {
     "data": {
      "text/plain": [
       "((60000, 784), (10000, 784))"
      ]
     },
     "execution_count": 10,
     "metadata": {},
     "output_type": "execute_result"
    }
   ],
   "source": [
    "X_train = X_train.reshape(60000,28*28)/255.\n",
    "X_test = X_test.reshape(-1,28*28)/255.\n",
    "\n",
    "X_train.shape, X_test.shape"
   ]
  },
  {
   "cell_type": "code",
   "execution_count": 13,
   "metadata": {},
   "outputs": [
    {
     "data": {
      "text/plain": [
       "array([[0., 0., 1., 0., 0.],\n",
       "       [0., 0., 0., 0., 1.]])"
      ]
     },
     "execution_count": 13,
     "metadata": {},
     "output_type": "execute_result"
    }
   ],
   "source": [
    "np.eye(5)[[2,4]]"
   ]
  },
  {
   "cell_type": "code",
   "execution_count": 14,
   "metadata": {},
   "outputs": [],
   "source": [
    "from keras.utils import to_categorical"
   ]
  },
  {
   "cell_type": "code",
   "execution_count": 15,
   "metadata": {},
   "outputs": [
    {
     "data": {
      "text/plain": [
       "array([[0., 0., 0., 0., 1.],\n",
       "       [1., 0., 0., 0., 0.],\n",
       "       [0., 0., 0., 1., 0.],\n",
       "       [0., 1., 0., 0., 0.],\n",
       "       [0., 0., 1., 0., 0.]], dtype=float32)"
      ]
     },
     "execution_count": 15,
     "metadata": {},
     "output_type": "execute_result"
    }
   ],
   "source": [
    "to_categorical([4,0,3,1,2])"
   ]
  },
  {
   "cell_type": "code",
   "execution_count": 16,
   "metadata": {},
   "outputs": [
    {
     "data": {
      "text/plain": [
       "((60000, 10), (10000, 10))"
      ]
     },
     "execution_count": 16,
     "metadata": {},
     "output_type": "execute_result"
    }
   ],
   "source": [
    "y_train = np.eye(10)[y_train]\n",
    "y_test = np.eye(10)[y_test]\n",
    "#y_train = pd.get_dummies(y_train).values\n",
    "#y_test = pd.get_dummies(y_test).values\n",
    "#y_train = to_categorical(y_train)\n",
    "\n",
    "y_train.shape, y_test.shape"
   ]
  },
  {
   "cell_type": "code",
   "execution_count": 17,
   "metadata": {},
   "outputs": [
    {
     "data": {
      "text/plain": [
       "array([[0., 0., 0., 0., 0., 1., 0., 0., 0., 0.],\n",
       "       [1., 0., 0., 0., 0., 0., 0., 0., 0., 0.],\n",
       "       [0., 0., 0., 0., 1., 0., 0., 0., 0., 0.],\n",
       "       [0., 1., 0., 0., 0., 0., 0., 0., 0., 0.],\n",
       "       [0., 0., 0., 0., 0., 0., 0., 0., 0., 1.]])"
      ]
     },
     "execution_count": 17,
     "metadata": {},
     "output_type": "execute_result"
    }
   ],
   "source": [
    "y_train[:5]"
   ]
  },
  {
   "cell_type": "markdown",
   "metadata": {},
   "source": [
    "### MNIST 신경망 구조"
   ]
  },
  {
   "cell_type": "markdown",
   "metadata": {},
   "source": [
    "<img src='https://mmlind.github.io/images/1lnn_input.svg' />\n",
    "(출처: https://mmlind.github.io/Simple_1-Layer_Neural_Network_for_MNIST_Handwriting_Recognition/)\n",
    "> 그림에서 픽셀 갯수가 잘못 표기됨 (784가 맞음)"
   ]
  },
  {
   "cell_type": "markdown",
   "metadata": {},
   "source": [
    "<img src='https://mmlind.github.io/images/1lnn_nnlayer.svg' />\n",
    "(출처: https://mmlind.github.io/Simple_1-Layer_Neural_Network_for_MNIST_Handwriting_Recognition/)"
   ]
  },
  {
   "cell_type": "markdown",
   "metadata": {},
   "source": [
    "- 픽셀 수가 784 이므로 속성 갯수가 784인 경우이다.\n",
    "- w1, w2, w3, ..., w784, b\n",
    "- w1\\*x1 + w2\\*x2 + ... + w784\\*x784 + b"
   ]
  },
  {
   "cell_type": "markdown",
   "metadata": {},
   "source": [
    "<img src='https://mmlind.github.io/images/1lnn.svg' />\n",
    "(출처: https://mmlind.github.io/Simple_1-Layer_Neural_Network_for_MNIST_Handwriting_Recognition/)"
   ]
  },
  {
   "cell_type": "markdown",
   "metadata": {},
   "source": [
    "- 타겟 클래스가 10개이므로, 가중치와 절편이 그 만큼 늘어난다.\n",
    "- 클래스값 0 => w1_1, w2_1, ..., w784_1, b1\n",
    "- 클래스값 1 -> w1_2, w2_2, ..., w784_2, b2\n",
    "- 가중치갯수 = 784\\*10, 절편갯수 = 10"
   ]
  },
  {
   "cell_type": "markdown",
   "metadata": {},
   "source": [
    "<img src='https://mmlind.github.io/images/1lnn_full.svg' />\n",
    "(출처: https://mmlind.github.io/Simple_1-Layer_Neural_Network_for_MNIST_Handwriting_Recognition/)"
   ]
  },
  {
   "cell_type": "markdown",
   "metadata": {},
   "source": [
    "### 비용함수\n",
    "- 위와 같은 결과를 얻었을 때, 손실값을 어떻게 계산할까?\n",
    "- mse = (0.003126 - 0)^2 + ... + (0.682134 - 1)^2 + ...\n",
    "- 위와 같이 mse 를 적용할 수 있다.\n",
    "- 하지만, 이런 멀티 클래스의 경우에는 다른 손실값을 적용하는 것이 일반적이다.\n",
    "- 위 그림은 숫자 6을 판별한 것이다. 그러므로 결과값은 6 위치만 값이 1이다.\n",
    "> cross\\_entropy\\_i = -log(0.682134), 입력 이미지 1개에 대한 손실값\n",
    "- 모든 숫자 이미지에 대한 크로스엔트로피를 평균한 것이 최종값이다.\n",
    "> $ cross\\_entropy = {1 \\over N} \\sum_{i=0}^{N-1} {-log(cross\\_entropy\\_i)} $"
   ]
  },
  {
   "cell_type": "markdown",
   "metadata": {},
   "source": [
    "### 활성화함수 (소프트맥스)\n",
    "<img src='https://encrypted-tbn0.gstatic.com/images?q=tbn:ANd9GcQ6QRL4yW5p4j634dzSyjZWMWWCGXaU_MZVnqDq_HErnH5RCCIizQ' />\n",
    "(출처 : https://www.google.com/search?tbm=isch&sa=1&ei=VFNCXfrICcybmAWZw6_ACQ&q=mnist+softmax&oq=mnist+softmax&gs_l=img.3..0i24l3.528.3330..3872...0.0..1.585.3193.0j1j5j2j1j1......0....1..gws-wiz-img.uKr_Bjki0oA&ved=0ahUKEwj6wvvf1ODjAhXMDaYKHZnhC5gQ4dUDCAY&uact=5#imgrc=Bwc55tfbS2SjXM:)"
   ]
  },
  {
   "cell_type": "markdown",
   "metadata": {},
   "source": [
    "- 실제로는 위와 같이 마지막 출력값을 내기 전에 softmax 라는 함수를 적용하여 출력값을 바꾸어 준다."
   ]
  },
  {
   "cell_type": "markdown",
   "metadata": {},
   "source": [
    "<img src='https://i.ytimg.com/vi/lvNdl7yg4Pg/maxresdefault.jpg' />\n",
    "(출처: https://www.youtube.com/watch?v=lvNdl7yg4Pg)"
   ]
  },
  {
   "cell_type": "markdown",
   "metadata": {},
   "source": [
    "- 출력값이 [2,1,0.1] 일때, 각각에 exponential 지수를 적용한 값의 비율을 구한 것이 softmax 이다.\n",
    "- softmax 를 적용하면 최종 출력값을 모두 더하면 1이 된다. (즉 확률 개념이 된다.)"
   ]
  },
  {
   "cell_type": "markdown",
   "metadata": {},
   "source": [
    "<img src='mnist_nn.jpg' />\n",
    "(출처: http://users.jyu.fi/~olkhriye/ties4911/lectures/Lecture03.pdf )<br>\n",
    "<img src='https://image.slidesharecdn.com/tensorflowppt-160408142819/95/tensorflow-5-638.jpg?cb=1460125744' />\n",
    "(출처: https://www.slideshare.net/jirimaterna/tensorflow-60661959 )"
   ]
  },
  {
   "cell_type": "markdown",
   "metadata": {},
   "source": [
    "### 단층 신경망 (로지스틱 회귀)\n",
    "- 입력층 : 이미지\n",
    "- 중간층 : 없음\n",
    "- 출력층 : 뉴런 10개\n",
    "- 출력층 활성화함수 : 소프트맥스\n",
    "- 비용함수 : 크로스엔트로피\n",
    "> $$ cross\\_entropy = - \\frac{1}{N} \\sum_i y_i \\cdot log(\\hat{y}_i) $$"
   ]
  },
  {
   "cell_type": "code",
   "execution_count": 18,
   "metadata": {},
   "outputs": [],
   "source": [
    "from tensorflow.keras.models import Sequential\n",
    "from tensorflow.keras.layers import Dense\n",
    "from tensorflow.keras.optimizers import SGD, RMSprop, Adagrad, Adam"
   ]
  },
  {
   "cell_type": "code",
   "execution_count": 19,
   "metadata": {},
   "outputs": [],
   "source": [
    "model = Sequential()\n",
    "model.add(Dense(10, input_shape=(784,), activation='softmax'))"
   ]
  },
  {
   "cell_type": "code",
   "execution_count": 20,
   "metadata": {
    "scrolled": true
   },
   "outputs": [
    {
     "name": "stdout",
     "output_type": "stream",
     "text": [
      "Epoch 1/100\n",
      "1875/1875 [==============================] - 7s 3ms/step - loss: 0.6653 - acc: 0.8300\n",
      "Epoch 2/100\n",
      "1875/1875 [==============================] - 6s 3ms/step - loss: 0.3000 - acc: 0.9169\n",
      "Epoch 3/100\n",
      "1875/1875 [==============================] - 6s 3ms/step - loss: 0.2808 - acc: 0.9217\n",
      "Epoch 4/100\n",
      "1875/1875 [==============================] - 6s 3ms/step - loss: 0.2790 - acc: 0.9242\n",
      "Epoch 5/100\n",
      "1875/1875 [==============================] - 6s 3ms/step - loss: 0.2770 - acc: 0.9255\n",
      "Epoch 6/100\n",
      "1875/1875 [==============================] - 6s 3ms/step - loss: 0.2730 - acc: 0.9293\n",
      "Epoch 7/100\n",
      "1875/1875 [==============================] - 8s 4ms/step - loss: 0.2774 - acc: 0.9284\n",
      "Epoch 8/100\n",
      "1875/1875 [==============================] - 8s 4ms/step - loss: 0.2791 - acc: 0.9280\n",
      "Epoch 9/100\n",
      "1875/1875 [==============================] - 9s 5ms/step - loss: 0.2834 - acc: 0.9280\n",
      "Epoch 10/100\n",
      "1875/1875 [==============================] - 9s 5ms/step - loss: 0.2780 - acc: 0.9294\n",
      "Epoch 11/100\n",
      "1875/1875 [==============================] - 11s 6ms/step - loss: 0.2840 - acc: 0.9292\n",
      "Epoch 12/100\n",
      "1875/1875 [==============================] - 10s 6ms/step - loss: 0.2768 - acc: 0.9297\n",
      "Epoch 13/100\n",
      "1875/1875 [==============================] - 10s 5ms/step - loss: 0.2841 - acc: 0.9305\n",
      "Epoch 14/100\n",
      "1875/1875 [==============================] - 10s 5ms/step - loss: 0.2843 - acc: 0.9296\n",
      "Epoch 15/100\n",
      "1875/1875 [==============================] - 10s 5ms/step - loss: 0.2856 - acc: 0.9310\n",
      "Epoch 16/100\n",
      "1875/1875 [==============================] - 11s 6ms/step - loss: 0.2724 - acc: 0.9330\n",
      "Epoch 17/100\n",
      "1875/1875 [==============================] - 14s 7ms/step - loss: 0.2758 - acc: 0.9328\n",
      "Epoch 18/100\n",
      "1875/1875 [==============================] - 13s 7ms/step - loss: 0.2852 - acc: 0.9304\n",
      "Epoch 19/100\n",
      "1875/1875 [==============================] - 13s 7ms/step - loss: 0.2819 - acc: 0.9321\n",
      "Epoch 20/100\n",
      "1875/1875 [==============================] - 12s 7ms/step - loss: 0.2833 - acc: 0.9307\n",
      "Epoch 21/100\n",
      "1875/1875 [==============================] - 12s 7ms/step - loss: 0.2854 - acc: 0.9323\n",
      "Epoch 22/100\n",
      "1875/1875 [==============================] - 12s 7ms/step - loss: 0.2822 - acc: 0.9315\n",
      "Epoch 23/100\n",
      "1875/1875 [==============================] - 13s 7ms/step - loss: 0.2757 - acc: 0.9318\n",
      "Epoch 24/100\n",
      "1875/1875 [==============================] - 12s 7ms/step - loss: 0.2802 - acc: 0.9327\n",
      "Epoch 25/100\n",
      "1875/1875 [==============================] - 13s 7ms/step - loss: 0.2811 - acc: 0.9338\n",
      "Epoch 26/100\n",
      "1875/1875 [==============================] - 12s 7ms/step - loss: 0.2922 - acc: 0.9312\n",
      "Epoch 27/100\n",
      "1875/1875 [==============================] - 12s 7ms/step - loss: 0.2838 - acc: 0.9330\n",
      "Epoch 28/100\n",
      "1875/1875 [==============================] - 12s 7ms/step - loss: 0.2821 - acc: 0.9333\n",
      "Epoch 29/100\n",
      "1875/1875 [==============================] - 12s 7ms/step - loss: 0.2851 - acc: 0.9322\n",
      "Epoch 30/100\n",
      "1875/1875 [==============================] - 13s 7ms/step - loss: 0.2827 - acc: 0.9329\n",
      "Epoch 31/100\n",
      "1875/1875 [==============================] - 13s 7ms/step - loss: 0.2821 - acc: 0.9335\n",
      "Epoch 32/100\n",
      "1875/1875 [==============================] - 13s 7ms/step - loss: 0.2866 - acc: 0.9321\n",
      "Epoch 33/100\n",
      "1875/1875 [==============================] - 13s 7ms/step - loss: 0.2784 - acc: 0.9353\n",
      "Epoch 34/100\n",
      "1875/1875 [==============================] - 14s 7ms/step - loss: 0.2803 - acc: 0.9345\n",
      "Epoch 35/100\n",
      "1875/1875 [==============================] - 13s 7ms/step - loss: 0.2858 - acc: 0.9325\n",
      "Epoch 36/100\n",
      "1875/1875 [==============================] - ETA: 0s - loss: 0.2791 - acc: 0.935 - 14s 7ms/step - loss: 0.2792 - acc: 0.9350\n",
      "Epoch 37/100\n",
      "1875/1875 [==============================] - 14s 7ms/step - loss: 0.2949 - acc: 0.9313\n",
      "Epoch 38/100\n",
      "1875/1875 [==============================] - 13s 7ms/step - loss: 0.2821 - acc: 0.9336\n",
      "Epoch 39/100\n",
      "1875/1875 [==============================] - 12s 7ms/step - loss: 0.2845 - acc: 0.9340\n",
      "Epoch 40/100\n",
      "1875/1875 [==============================] - 12s 7ms/step - loss: 0.2920 - acc: 0.9323\n",
      "Epoch 41/100\n",
      "1875/1875 [==============================] - 12s 7ms/step - loss: 0.2833 - acc: 0.9336\n",
      "Epoch 42/100\n",
      "1875/1875 [==============================] - 13s 7ms/step - loss: 0.2924 - acc: 0.9323\n",
      "Epoch 43/100\n",
      "1875/1875 [==============================] - 14s 7ms/step - loss: 0.2768 - acc: 0.9354\n",
      "Epoch 44/100\n",
      "1875/1875 [==============================] - 18s 9ms/step - loss: 0.2950 - acc: 0.9339\n",
      "Epoch 45/100\n",
      "1875/1875 [==============================] - 18s 10ms/step - loss: 0.2830 - acc: 0.9330\n",
      "Epoch 46/100\n",
      "1875/1875 [==============================] - 13s 7ms/step - loss: 0.2792 - acc: 0.9362\n",
      "Epoch 47/100\n",
      "1875/1875 [==============================] - 14s 7ms/step - loss: 0.2854 - acc: 0.9346: \n",
      "Epoch 48/100\n",
      "1875/1875 [==============================] - 12s 6ms/step - loss: 0.2891 - acc: 0.9327\n",
      "Epoch 49/100\n",
      "1875/1875 [==============================] - 13s 7ms/step - loss: 0.2833 - acc: 0.9350\n",
      "Epoch 50/100\n",
      "1875/1875 [==============================] - 12s 6ms/step - loss: 0.2883 - acc: 0.9345\n",
      "Epoch 51/100\n",
      "1875/1875 [==============================] - 13s 7ms/step - loss: 0.2881 - acc: 0.9335\n",
      "Epoch 52/100\n",
      "1875/1875 [==============================] - 15s 8ms/step - loss: 0.2871 - acc: 0.9357\n",
      "Epoch 53/100\n",
      "1875/1875 [==============================] - 13s 7ms/step - loss: 0.2946 - acc: 0.9332\n",
      "Epoch 54/100\n",
      "1875/1875 [==============================] - 13s 7ms/step - loss: 0.2879 - acc: 0.9352\n",
      "Epoch 55/100\n",
      "1875/1875 [==============================] - 14s 7ms/step - loss: 0.2865 - acc: 0.9348\n",
      "Epoch 56/100\n",
      "1875/1875 [==============================] - 12s 7ms/step - loss: 0.2860 - acc: 0.9359\n",
      "Epoch 57/100\n",
      "1875/1875 [==============================] - 12s 6ms/step - loss: 0.2993 - acc: 0.9340\n",
      "Epoch 58/100\n",
      "1875/1875 [==============================] - 12s 6ms/step - loss: 0.2814 - acc: 0.9352\n",
      "Epoch 59/100\n",
      "1875/1875 [==============================] - 12s 7ms/step - loss: 0.2873 - acc: 0.9336\n",
      "Epoch 60/100\n",
      "1875/1875 [==============================] - 14s 7ms/step - loss: 0.2942 - acc: 0.9348\n",
      "Epoch 61/100\n",
      "1875/1875 [==============================] - 12s 7ms/step - loss: 0.2948 - acc: 0.9334\n",
      "Epoch 62/100\n",
      "1875/1875 [==============================] - 13s 7ms/step - loss: 0.2951 - acc: 0.9337\n",
      "Epoch 63/100\n",
      "1875/1875 [==============================] - 13s 7ms/step - loss: 0.2868 - acc: 0.9361\n",
      "Epoch 64/100\n",
      "1875/1875 [==============================] - 14s 7ms/step - loss: 0.2910 - acc: 0.9338\n",
      "Epoch 65/100\n",
      "1875/1875 [==============================] - 14s 7ms/step - loss: 0.2909 - acc: 0.9345\n",
      "Epoch 66/100\n",
      "1875/1875 [==============================] - 15s 8ms/step - loss: 0.2983 - acc: 0.9333\n",
      "Epoch 67/100\n",
      "1875/1875 [==============================] - 12s 7ms/step - loss: 0.2868 - acc: 0.9362\n",
      "Epoch 68/100\n",
      "1875/1875 [==============================] - 12s 6ms/step - loss: 0.2866 - acc: 0.9347\n",
      "Epoch 69/100\n",
      "1875/1875 [==============================] - 12s 6ms/step - loss: 0.3084 - acc: 0.9337\n",
      "Epoch 70/100\n",
      "1875/1875 [==============================] - 13s 7ms/step - loss: 0.2909 - acc: 0.9360\n",
      "Epoch 71/100\n",
      "1875/1875 [==============================] - 12s 7ms/step - loss: 0.2920 - acc: 0.9356\n",
      "Epoch 72/100\n",
      "1875/1875 [==============================] - 14s 7ms/step - loss: 0.2929 - acc: 0.9350\n",
      "Epoch 73/100\n",
      "1875/1875 [==============================] - 12s 7ms/step - loss: 0.2871 - acc: 0.9350\n",
      "Epoch 74/100\n",
      "1875/1875 [==============================] - 14s 7ms/step - loss: 0.2889 - acc: 0.9351\n",
      "Epoch 75/100\n",
      "1875/1875 [==============================] - 12s 7ms/step - loss: 0.2971 - acc: 0.9339\n",
      "Epoch 76/100\n",
      "1875/1875 [==============================] - 13s 7ms/step - loss: 0.3003 - acc: 0.9347\n",
      "Epoch 77/100\n",
      "1875/1875 [==============================] - 12s 6ms/step - loss: 0.2939 - acc: 0.9347\n",
      "Epoch 78/100\n",
      "1875/1875 [==============================] - 12s 6ms/step - loss: 0.2979 - acc: 0.9345\n",
      "Epoch 79/100\n",
      "1875/1875 [==============================] - 13s 7ms/step - loss: 0.2911 - acc: 0.9340\n",
      "Epoch 80/100\n",
      "1875/1875 [==============================] - 15s 8ms/step - loss: 0.2983 - acc: 0.9341\n",
      "Epoch 81/100\n",
      "1875/1875 [==============================] - 14s 8ms/step - loss: 0.2956 - acc: 0.9349\n",
      "Epoch 82/100\n"
     ]
    },
    {
     "name": "stdout",
     "output_type": "stream",
     "text": [
      "1875/1875 [==============================] - 12s 6ms/step - loss: 0.2938 - acc: 0.9366\n",
      "Epoch 83/100\n",
      "1875/1875 [==============================] - 11s 6ms/step - loss: 0.2966 - acc: 0.9351\n",
      "Epoch 84/100\n",
      "1875/1875 [==============================] - 12s 6ms/step - loss: 0.2907 - acc: 0.9356: 0s - loss: 0.2904 - a\n",
      "Epoch 85/100\n",
      "1875/1875 [==============================] - 11s 6ms/step - loss: 0.2918 - acc: 0.9361\n",
      "Epoch 86/100\n",
      "1875/1875 [==============================] - 11s 6ms/step - loss: 0.3042 - acc: 0.9356\n",
      "Epoch 87/100\n",
      "1875/1875 [==============================] - 12s 6ms/step - loss: 0.2992 - acc: 0.9348\n",
      "Epoch 88/100\n",
      "1875/1875 [==============================] - 14s 8ms/step - loss: 0.2971 - acc: 0.9347\n",
      "Epoch 89/100\n",
      "1875/1875 [==============================] - 11s 6ms/step - loss: 0.2866 - acc: 0.9364\n",
      "Epoch 90/100\n",
      "1875/1875 [==============================] - 13s 7ms/step - loss: 0.2935 - acc: 0.9360\n",
      "Epoch 91/100\n",
      "1875/1875 [==============================] - 14s 7ms/step - loss: 0.2908 - acc: 0.9363\n",
      "Epoch 92/100\n",
      "1875/1875 [==============================] - 14s 7ms/step - loss: 0.3036 - acc: 0.9337\n",
      "Epoch 93/100\n",
      "1875/1875 [==============================] - 14s 8ms/step - loss: 0.3040 - acc: 0.9348\n",
      "Epoch 94/100\n",
      "1875/1875 [==============================] - 13s 7ms/step - loss: 0.3007 - acc: 0.9357\n",
      "Epoch 95/100\n",
      "1875/1875 [==============================] - 13s 7ms/step - loss: 0.3080 - acc: 0.9345\n",
      "Epoch 96/100\n",
      "1875/1875 [==============================] - 14s 7ms/step - loss: 0.2892 - acc: 0.9366\n",
      "Epoch 97/100\n",
      "1875/1875 [==============================] - 12s 7ms/step - loss: 0.2999 - acc: 0.9362\n",
      "Epoch 98/100\n",
      "1875/1875 [==============================] - 12s 7ms/step - loss: 0.2982 - acc: 0.9359\n",
      "Epoch 99/100\n",
      "1875/1875 [==============================] - 13s 7ms/step - loss: 0.3069 - acc: 0.9336\n",
      "Epoch 100/100\n",
      "1875/1875 [==============================] - 12s 7ms/step - loss: 0.2972 - acc: 0.9349\n"
     ]
    }
   ],
   "source": [
    "model.compile(loss='categorical_crossentropy', optimizer='rmsprop',\n",
    "              metrics=['acc'])\n",
    "history = model.fit(X_train, y_train, epochs=100)"
   ]
  },
  {
   "cell_type": "code",
   "execution_count": 21,
   "metadata": {},
   "outputs": [
    {
     "data": {
      "text/plain": [
       "[<matplotlib.lines.Line2D at 0x13f2b0f6688>]"
      ]
     },
     "execution_count": 21,
     "metadata": {},
     "output_type": "execute_result"
    },
    {
     "data": {
      "image/png": "[encoded data removed]",
      "text/plain": [
       "<Figure size 432x288 with 2 Axes>"
      ]
     },
     "metadata": {
      "needs_background": "light"
     },
     "output_type": "display_data"
    }
   ],
   "source": [
    "plt.subplot(1,2,1)\n",
    "plt.plot(model.history.history['loss'])\n",
    "\n",
    "plt.subplot(1,2,2)\n",
    "plt.plot(model.history.history['acc'])"
   ]
  },
  {
   "cell_type": "code",
   "execution_count": 23,
   "metadata": {},
   "outputs": [
    {
     "data": {
      "text/plain": [
       "array([[9.7426202e-08, 1.2125748e-10, 2.3867876e-06, ..., 2.4861608e-12,\n",
       "        8.9258826e-08, 7.6937283e-11],\n",
       "       [1.0000000e+00, 1.3923294e-23, 1.1778557e-09, ..., 3.6426055e-20,\n",
       "        7.8149054e-10, 2.3886858e-14],\n",
       "       [5.5130572e-10, 2.3519273e-05, 5.7186862e-05, ..., 4.5121487e-06,\n",
       "        6.3810478e-11, 1.1546011e-07],\n",
       "       ...,\n",
       "       [1.3233804e-08, 1.4130659e-05, 1.2430235e-11, ..., 4.6332361e-17,\n",
       "        6.4466812e-04, 4.0465220e-15],\n",
       "       [1.5532561e-07, 9.0314842e-17, 6.9704811e-08, ..., 7.7199772e-08,\n",
       "        2.7645400e-11, 1.0030172e-09],\n",
       "       [7.1960822e-04, 3.6493669e-14, 5.7804574e-09, ..., 3.6422293e-08,\n",
       "        9.7480756e-01, 1.0116663e-06]], dtype=float32)"
      ]
     },
     "execution_count": 23,
     "metadata": {},
     "output_type": "execute_result"
    }
   ],
   "source": [
    "pred_y = model.predict(X_train)\n",
    "pred_y"
   ]
  },
  {
   "cell_type": "code",
   "execution_count": 24,
   "metadata": {},
   "outputs": [
    {
     "data": {
      "text/plain": [
       "0.9359833333333333"
      ]
     },
     "execution_count": 24,
     "metadata": {},
     "output_type": "execute_result"
    }
   ],
   "source": [
    "(pred_y.argmax(axis=1)==y_train.argmax(axis=1)).mean()"
   ]
  },
  {
   "cell_type": "code",
   "execution_count": 25,
   "metadata": {
    "collapsed": true
   },
   "outputs": [
    {
     "data": {
      "text/plain": [
       "array([[1.1576792e-11, 1.1278143e-21, 2.2905538e-12, ..., 9.9998808e-01,\n",
       "        2.4249535e-11, 1.1085776e-05],\n",
       "       [7.6209449e-07, 2.6075053e-08, 9.9999344e-01, ..., 0.0000000e+00,\n",
       "        3.4508922e-16, 1.8060026e-36],\n",
       "       [1.6197106e-12, 9.9845195e-01, 1.2023184e-03, ..., 1.0266540e-09,\n",
       "        1.8620795e-04, 6.9398318e-09],\n",
       "       ...,\n",
       "       [4.8460504e-15, 3.7459176e-18, 2.0124844e-12, ..., 8.9142873e-04,\n",
       "        3.9854860e-03, 3.9454173e-02],\n",
       "       [1.4868701e-17, 2.1184849e-15, 9.1776888e-18, ..., 1.2551224e-15,\n",
       "        8.7399199e-04, 2.5224596e-16],\n",
       "       [1.7858246e-14, 3.6870761e-35, 1.0483525e-12, ..., 2.8317020e-23,\n",
       "        4.0157737e-19, 4.8951325e-23]], dtype=float32)"
      ]
     },
     "execution_count": 25,
     "metadata": {},
     "output_type": "execute_result"
    }
   ],
   "source": [
    "pred_y = model.predict(X_test)\n",
    "pred_y"
   ]
  },
  {
   "cell_type": "code",
   "execution_count": 31,
   "metadata": {},
   "outputs": [
    {
     "data": {
      "text/plain": [
       "array([1.1576792e-11, 1.1278143e-21, 2.2905538e-12, 8.4671666e-07,\n",
       "       5.4157594e-12, 2.9026591e-08, 5.6725571e-17, 9.9998808e-01,\n",
       "       2.4249535e-11, 1.1085776e-05], dtype=float32)"
      ]
     },
     "execution_count": 31,
     "metadata": {},
     "output_type": "execute_result"
    }
   ],
   "source": [
    "pred_y[0]"
   ]
  },
  {
   "cell_type": "code",
   "execution_count": 26,
   "metadata": {},
   "outputs": [
    {
     "data": {
      "text/plain": [
       "0.9258"
      ]
     },
     "execution_count": 26,
     "metadata": {},
     "output_type": "execute_result"
    }
   ],
   "source": [
    "(pred_y.argmax(axis=1)==y_test.argmax(axis=1)).mean()"
   ]
  },
  {
   "cell_type": "code",
   "execution_count": null,
   "metadata": {},
   "outputs": [],
   "source": []
  },
  {
   "cell_type": "code",
   "execution_count": 32,
   "metadata": {},
   "outputs": [
    {
     "data": {
      "text/plain": [
       "(list, 2)"
      ]
     },
     "execution_count": 32,
     "metadata": {},
     "output_type": "execute_result"
    }
   ],
   "source": [
    "ws = model.get_weights()\n",
    "type(ws), len(ws)"
   ]
  },
  {
   "cell_type": "code",
   "execution_count": 19,
   "metadata": {},
   "outputs": [
    {
     "data": {
      "text/plain": [
       "((784, 10), (10,))"
      ]
     },
     "execution_count": 19,
     "metadata": {},
     "output_type": "execute_result"
    }
   ],
   "source": [
    "ws[0].shape, ws[1].shape"
   ]
  },
  {
   "cell_type": "code",
   "execution_count": 20,
   "metadata": {},
   "outputs": [
    {
     "data": {
      "image/png": "[encoded data removed]",
      "text/plain": [
       "<Figure size 864x720 with 20 Axes>"
      ]
     },
     "metadata": {
      "needs_background": "light"
     },
     "output_type": "display_data"
    }
   ],
   "source": [
    "plt.figure(figsize=[12,10])\n",
    "\n",
    "for i in range(10):\n",
    "    plt.subplot(3,4,i+1)\n",
    "    plt.imshow(ws[0][:,i].reshape(28,28), cmap='bwr')\n",
    "    plt.axis('off')\n",
    "    plt.title(i)\n",
    "    plt.colorbar()"
   ]
  },
  {
   "cell_type": "markdown",
   "metadata": {},
   "source": [
    "### 중간층 추가"
   ]
  },
  {
   "cell_type": "code",
   "execution_count": 36,
   "metadata": {},
   "outputs": [],
   "source": [
    "model = Sequential()\n",
    "model.add(Dense(128, activation='relu', input_shape=(784,)))\n",
    "model.add(Dense(256, activation='relu'))\n",
    "model.add(Dense(256, activation='relu'))\n",
    "model.add(Dense(10, activation='softmax'))"
   ]
  },
  {
   "cell_type": "code",
   "execution_count": 37,
   "metadata": {
    "collapsed": true
   },
   "outputs": [
    {
     "name": "stdout",
     "output_type": "stream",
     "text": [
      "Model: \"sequential_2\"\n",
      "_________________________________________________________________\n",
      "Layer (type)                 Output Shape              Param #   \n",
      "=================================================================\n",
      "dense_5 (Dense)              (None, 128)               100480    \n",
      "_________________________________________________________________\n",
      "dense_6 (Dense)              (None, 256)               33024     \n",
      "_________________________________________________________________\n",
      "dense_7 (Dense)              (None, 256)               65792     \n",
      "_________________________________________________________________\n",
      "dense_8 (Dense)              (None, 10)                2570      \n",
      "=================================================================\n",
      "Total params: 201,866\n",
      "Trainable params: 201,866\n",
      "Non-trainable params: 0\n",
      "_________________________________________________________________\n"
     ]
    }
   ],
   "source": [
    "model.summary()"
   ]
  },
  {
   "cell_type": "code",
   "execution_count": 42,
   "metadata": {},
   "outputs": [
    {
     "data": {
      "text/plain": [
       "375.0"
      ]
     },
     "execution_count": 42,
     "metadata": {},
     "output_type": "execute_result"
    }
   ],
   "source": [
    "48000/128"
   ]
  },
  {
   "cell_type": "code",
   "execution_count": 38,
   "metadata": {
    "scrolled": true
   },
   "outputs": [
    {
     "name": "stdout",
     "output_type": "stream",
     "text": [
      "Epoch 1/50\n",
      "375/375 [==============================] - 4s 10ms/step - loss: 0.5478 - acc: 0.8256 - val_loss: 0.1528 - val_acc: 0.9532\n",
      "Epoch 2/50\n",
      "375/375 [==============================] - 5s 14ms/step - loss: 0.1268 - acc: 0.9612 - val_loss: 0.1030 - val_acc: 0.9684\n",
      "Epoch 3/50\n",
      "375/375 [==============================] - 5s 13ms/step - loss: 0.0792 - acc: 0.9745 - val_loss: 0.0932 - val_acc: 0.9721\n",
      "Epoch 4/50\n",
      "375/375 [==============================] - 5s 13ms/step - loss: 0.0565 - acc: 0.9809 - val_loss: 0.0965 - val_acc: 0.9737\n",
      "Epoch 5/50\n",
      "375/375 [==============================] - 5s 14ms/step - loss: 0.0423 - acc: 0.9865 - val_loss: 0.1139 - val_acc: 0.9705\n",
      "Epoch 6/50\n",
      "375/375 [==============================] - 5s 13ms/step - loss: 0.0333 - acc: 0.9893 - val_loss: 0.1029 - val_acc: 0.9749\n",
      "Epoch 7/50\n",
      "375/375 [==============================] - 5s 12ms/step - loss: 0.0258 - acc: 0.9906 - val_loss: 0.1066 - val_acc: 0.9767\n",
      "Epoch 8/50\n",
      "375/375 [==============================] - 5s 12ms/step - loss: 0.0201 - acc: 0.9930 - val_loss: 0.1381 - val_acc: 0.9721\n",
      "Epoch 9/50\n",
      "375/375 [==============================] - 6s 15ms/step - loss: 0.0174 - acc: 0.9944 - val_loss: 0.1314 - val_acc: 0.9752\n",
      "Epoch 10/50\n",
      "375/375 [==============================] - 5s 13ms/step - loss: 0.0167 - acc: 0.9944 - val_loss: 0.1520 - val_acc: 0.9759\n",
      "Epoch 11/50\n",
      "375/375 [==============================] - 5s 13ms/step - loss: 0.0134 - acc: 0.9956 - val_loss: 0.1384 - val_acc: 0.9776\n",
      "Epoch 12/50\n",
      "375/375 [==============================] - 5s 14ms/step - loss: 0.0118 - acc: 0.9962 - val_loss: 0.1601 - val_acc: 0.9747\n",
      "Epoch 13/50\n",
      "375/375 [==============================] - 5s 14ms/step - loss: 0.0111 - acc: 0.9962 - val_loss: 0.1804 - val_acc: 0.9729\n",
      "Epoch 14/50\n",
      "375/375 [==============================] - 5s 14ms/step - loss: 0.0091 - acc: 0.9970 - val_loss: 0.1680 - val_acc: 0.9768\n",
      "Epoch 15/50\n",
      "375/375 [==============================] - 5s 13ms/step - loss: 0.0083 - acc: 0.9975 - val_loss: 0.2073 - val_acc: 0.9732\n",
      "Epoch 16/50\n",
      "375/375 [==============================] - 5s 13ms/step - loss: 0.0090 - acc: 0.9974 - val_loss: 0.2020 - val_acc: 0.9747\n",
      "Epoch 17/50\n",
      "375/375 [==============================] - 5s 13ms/step - loss: 0.0075 - acc: 0.9973 - val_loss: 0.1743 - val_acc: 0.9781\n",
      "Epoch 18/50\n",
      "375/375 [==============================] - 5s 13ms/step - loss: 0.0066 - acc: 0.9979 - val_loss: 0.1925 - val_acc: 0.9763\n",
      "Epoch 19/50\n",
      "375/375 [==============================] - 5s 12ms/step - loss: 0.0074 - acc: 0.9983 - val_loss: 0.2261 - val_acc: 0.9740\n",
      "Epoch 20/50\n",
      "375/375 [==============================] - 6s 16ms/step - loss: 0.0069 - acc: 0.9981 - val_loss: 0.2461 - val_acc: 0.9762.\n",
      "Epoch 21/50\n",
      "375/375 [==============================] - 6s 16ms/step - loss: 0.0082 - acc: 0.9975 - val_loss: 0.2439 - val_acc: 0.9767\n",
      "Epoch 22/50\n",
      "375/375 [==============================] - 5s 14ms/step - loss: 0.0076 - acc: 0.9980 - val_loss: 0.2504 - val_acc: 0.9763\n",
      "Epoch 23/50\n",
      "375/375 [==============================] - 5s 14ms/step - loss: 0.0068 - acc: 0.9978 - val_loss: 0.2427 - val_acc: 0.9748\n",
      "Epoch 24/50\n",
      "375/375 [==============================] - 5s 13ms/step - loss: 0.0055 - acc: 0.9986 - val_loss: 0.2522 - val_acc: 0.9760\n",
      "Epoch 25/50\n",
      "375/375 [==============================] - 5s 14ms/step - loss: 0.0082 - acc: 0.9980 - val_loss: 0.2375 - val_acc: 0.9783\n",
      "Epoch 26/50\n",
      "375/375 [==============================] - 5s 14ms/step - loss: 0.0045 - acc: 0.9986 - val_loss: 0.2638 - val_acc: 0.9781\n",
      "Epoch 27/50\n",
      "375/375 [==============================] - 5s 13ms/step - loss: 0.0073 - acc: 0.9983 - val_loss: 0.2728 - val_acc: 0.9753\n",
      "Epoch 28/50\n",
      "375/375 [==============================] - 5s 14ms/step - loss: 0.0041 - acc: 0.9989 - val_loss: 0.2524 - val_acc: 0.9793\n",
      "Epoch 29/50\n",
      "375/375 [==============================] - 5s 14ms/step - loss: 0.0060 - acc: 0.9983 - val_loss: 0.2667 - val_acc: 0.9798\n",
      "Epoch 30/50\n",
      "375/375 [==============================] - 5s 14ms/step - loss: 0.0052 - acc: 0.9987 - val_loss: 0.2696 - val_acc: 0.9776\n",
      "Epoch 31/50\n",
      "375/375 [==============================] - 5s 13ms/step - loss: 0.0056 - acc: 0.9986 - val_loss: 0.2760 - val_acc: 0.9793\n",
      "Epoch 32/50\n",
      "375/375 [==============================] - 5s 14ms/step - loss: 0.0048 - acc: 0.9987 - val_loss: 0.2858 - val_acc: 0.9786\n",
      "Epoch 33/50\n",
      "375/375 [==============================] - 5s 14ms/step - loss: 0.0056 - acc: 0.9987 - val_loss: 0.2915 - val_acc: 0.9776\n",
      "Epoch 34/50\n",
      "375/375 [==============================] - 5s 14ms/step - loss: 0.0046 - acc: 0.9989 - val_loss: 0.2802 - val_acc: 0.9795\n",
      "Epoch 35/50\n",
      "375/375 [==============================] - 5s 14ms/step - loss: 0.0061 - acc: 0.9984 - val_loss: 0.3377 - val_acc: 0.9767\n",
      "Epoch 36/50\n",
      "375/375 [==============================] - 6s 17ms/step - loss: 0.0047 - acc: 0.9990 - val_loss: 0.3024 - val_acc: 0.9793\n",
      "Epoch 37/50\n",
      "375/375 [==============================] - 7s 19ms/step - loss: 0.0065 - acc: 0.9985 - val_loss: 0.2956 - val_acc: 0.9769\n",
      "Epoch 38/50\n",
      "375/375 [==============================] - 6s 15ms/step - loss: 0.0039 - acc: 0.9991 - val_loss: 0.3169 - val_acc: 0.9762\n",
      "Epoch 39/50\n",
      "375/375 [==============================] - 5s 14ms/step - loss: 0.0039 - acc: 0.9989 - val_loss: 0.3322 - val_acc: 0.9787\n",
      "Epoch 40/50\n",
      "375/375 [==============================] - 5s 13ms/step - loss: 0.0035 - acc: 0.9992 - val_loss: 0.3795 - val_acc: 0.9754\n",
      "Epoch 41/50\n",
      "375/375 [==============================] - 5s 12ms/step - loss: 0.0087 - acc: 0.9985 - val_loss: 0.3268 - val_acc: 0.9789\n",
      "Epoch 42/50\n",
      "375/375 [==============================] - 5s 12ms/step - loss: 0.0038 - acc: 0.9992 - val_loss: 0.3479 - val_acc: 0.9790\n",
      "Epoch 43/50\n",
      "375/375 [==============================] - 5s 13ms/step - loss: 0.0043 - acc: 0.9990 - val_loss: 0.3754 - val_acc: 0.9778\n",
      "Epoch 44/50\n",
      "375/375 [==============================] - 5s 14ms/step - loss: 0.0039 - acc: 0.9992 - val_loss: 0.3955 - val_acc: 0.9755\n",
      "Epoch 45/50\n",
      "375/375 [==============================] - 5s 13ms/step - loss: 0.0065 - acc: 0.9989 - val_loss: 0.3753 - val_acc: 0.9778\n",
      "Epoch 46/50\n",
      "375/375 [==============================] - 5s 13ms/step - loss: 0.0052 - acc: 0.9991 - val_loss: 0.3153 - val_acc: 0.9793\n",
      "Epoch 47/50\n",
      "375/375 [==============================] - 5s 13ms/step - loss: 0.0026 - acc: 0.9993 - val_loss: 0.3435 - val_acc: 0.9785\n",
      "Epoch 48/50\n",
      "375/375 [==============================] - 5s 13ms/step - loss: 0.0045 - acc: 0.9991 - val_loss: 0.3825 - val_acc: 0.9773\n",
      "Epoch 49/50\n",
      "375/375 [==============================] - 5s 15ms/step - loss: 0.0028 - acc: 0.9993 - val_loss: 0.3591 - val_acc: 0.9802\n",
      "Epoch 50/50\n",
      "375/375 [==============================] - 5s 14ms/step - loss: 0.0044 - acc: 0.9993 - val_loss: 0.3762 - val_acc: 0.9766\n"
     ]
    },
    {
     "data": {
      "text/plain": [
       "<tensorflow.python.keras.callbacks.History at 0x13f2bd25788>"
      ]
     },
     "execution_count": 38,
     "metadata": {},
     "output_type": "execute_result"
    }
   ],
   "source": [
    "model.compile(loss='categorical_crossentropy', optimizer='rmsprop',\n",
    "              metrics=['acc'])\n",
    "model.fit(X_train, y_train, epochs=50, batch_size=128,\n",
    "          validation_split=0.2)"
   ]
  },
  {
   "cell_type": "code",
   "execution_count": 41,
   "metadata": {},
   "outputs": [
    {
     "data": {
      "text/plain": [
       "<matplotlib.legend.Legend at 0x13f2ca6ec08>"
      ]
     },
     "execution_count": 41,
     "metadata": {},
     "output_type": "execute_result"
    },
    {
     "data": {
      "image/png": "[encoded data removed]",
      "text/plain": [
       "<Figure size 720x432 with 2 Axes>"
      ]
     },
     "metadata": {
      "needs_background": "light"
     },
     "output_type": "display_data"
    }
   ],
   "source": [
    "plt.figure(figsize=[10,6])\n",
    "\n",
    "plt.subplot(1,2,1)\n",
    "plt.plot(model.history.history['loss'])\n",
    "plt.plot(model.history.history['val_loss'])\n",
    "plt.title('Loss')\n",
    "plt.xlabel('epoch')\n",
    "plt.legend(['loss','val_loss'])\n",
    "\n",
    "plt.subplot(1,2,2)\n",
    "plt.plot(model.history.history['acc'])\n",
    "plt.plot(model.history.history['val_acc'])\n",
    "plt.title('Accuracy')\n",
    "plt.xlabel('epoch')\n",
    "plt.legend(['acc','val_acc'])"
   ]
  },
  {
   "cell_type": "markdown",
   "metadata": {},
   "source": [
    "- 미니배치 : 훈련데이터를 일정한 갯수만큼 나누어 훈련시키고 가중치를 업데이트한다 (batch_size=128)\n",
    "- 검증데이터 : 훈련데이터 중 일부를 검증을 위해 따로 떼어놓고 loss 와 acc 를 별도로 계산한다\n",
    "    - validation_split\n",
    "    - validation_data"
   ]
  },
  {
   "cell_type": "code",
   "execution_count": 30,
   "metadata": {
    "scrolled": true
   },
   "outputs": [
    {
     "name": "stdout",
     "output_type": "stream",
     "text": [
      "Help on method fit in module keras.engine.training:\n",
      "\n",
      "fit(x=None, y=None, batch_size=None, epochs=1, verbose=1, callbacks=None, validation_split=0.0, validation_data=None, shuffle=True, class_weight=None, sample_weight=None, initial_epoch=0, steps_per_epoch=None, validation_steps=None, **kwargs) method of keras.engine.sequential.Sequential instance\n",
      "    Trains the model for a given number of epochs (iterations on a dataset).\n",
      "    \n",
      "    # Arguments\n",
      "        x: Numpy array of training data (if the model has a single input),\n",
      "            or list of Numpy arrays (if the model has multiple inputs).\n",
      "            If input layers in the model are named, you can also pass a\n",
      "            dictionary mapping input names to Numpy arrays.\n",
      "            `x` can be `None` (default) if feeding from\n",
      "            framework-native tensors (e.g. TensorFlow data tensors).\n",
      "        y: Numpy array of target (label) data\n",
      "            (if the model has a single output),\n",
      "            or list of Numpy arrays (if the model has multiple outputs).\n",
      "            If output layers in the model are named, you can also pass a\n",
      "            dictionary mapping output names to Numpy arrays.\n",
      "            `y` can be `None` (default) if feeding from\n",
      "            framework-native tensors (e.g. TensorFlow data tensors).\n",
      "        batch_size: Integer or `None`.\n",
      "            Number of samples per gradient update.\n",
      "            If unspecified, `batch_size` will default to 32.\n",
      "        epochs: Integer. Number of epochs to train the model.\n",
      "            An epoch is an iteration over the entire `x` and `y`\n",
      "            data provided.\n",
      "            Note that in conjunction with `initial_epoch`,\n",
      "            `epochs` is to be understood as \"final epoch\".\n",
      "            The model is not trained for a number of iterations\n",
      "            given by `epochs`, but merely until the epoch\n",
      "            of index `epochs` is reached.\n",
      "        verbose: Integer. 0, 1, or 2. Verbosity mode.\n",
      "            0 = silent, 1 = progress bar, 2 = one line per epoch.\n",
      "        callbacks: List of `keras.callbacks.Callback` instances.\n",
      "            List of callbacks to apply during training.\n",
      "            See [callbacks](/callbacks).\n",
      "        validation_split: Float between 0 and 1.\n",
      "            Fraction of the training data to be used as validation data.\n",
      "            The model will set apart this fraction of the training data,\n",
      "            will not train on it, and will evaluate\n",
      "            the loss and any model metrics\n",
      "            on this data at the end of each epoch.\n",
      "            The validation data is selected from the last samples\n",
      "            in the `x` and `y` data provided, before shuffling.\n",
      "        validation_data: tuple `(x_val, y_val)` or tuple\n",
      "            `(x_val, y_val, val_sample_weights)` on which to evaluate\n",
      "            the loss and any model metrics at the end of each epoch.\n",
      "            The model will not be trained on this data.\n",
      "            `validation_data` will override `validation_split`.\n",
      "        shuffle: Boolean (whether to shuffle the training data\n",
      "            before each epoch) or str (for 'batch').\n",
      "            'batch' is a special option for dealing with the\n",
      "            limitations of HDF5 data; it shuffles in batch-sized chunks.\n",
      "            Has no effect when `steps_per_epoch` is not `None`.\n",
      "        class_weight: Optional dictionary mapping class indices (integers)\n",
      "            to a weight (float) value, used for weighting the loss function\n",
      "            (during training only).\n",
      "            This can be useful to tell the model to\n",
      "            \"pay more attention\" to samples from\n",
      "            an under-represented class.\n",
      "        sample_weight: Optional Numpy array of weights for\n",
      "            the training samples, used for weighting the loss function\n",
      "            (during training only). You can either pass a flat (1D)\n",
      "            Numpy array with the same length as the input samples\n",
      "            (1:1 mapping between weights and samples),\n",
      "            or in the case of temporal data,\n",
      "            you can pass a 2D array with shape\n",
      "            `(samples, sequence_length)`,\n",
      "            to apply a different weight to every timestep of every sample.\n",
      "            In this case you should make sure to specify\n",
      "            `sample_weight_mode=\"temporal\"` in `compile()`.\n",
      "        initial_epoch: Integer.\n",
      "            Epoch at which to start training\n",
      "            (useful for resuming a previous training run).\n",
      "        steps_per_epoch: Integer or `None`.\n",
      "            Total number of steps (batches of samples)\n",
      "            before declaring one epoch finished and starting the\n",
      "            next epoch. When training with input tensors such as\n",
      "            TensorFlow data tensors, the default `None` is equal to\n",
      "            the number of samples in your dataset divided by\n",
      "            the batch size, or 1 if that cannot be determined.\n",
      "        validation_steps: Only relevant if `steps_per_epoch`\n",
      "            is specified. Total number of steps (batches of samples)\n",
      "            to validate before stopping.\n",
      "    \n",
      "    # Returns\n",
      "        A `History` object. Its `History.history` attribute is\n",
      "        a record of training loss values and metrics values\n",
      "        at successive epochs, as well as validation loss values\n",
      "        and validation metrics values (if applicable).\n",
      "    \n",
      "    # Raises\n",
      "        RuntimeError: If the model was never compiled.\n",
      "        ValueError: In case of mismatch between the provided input data\n",
      "            and what the model expects.\n",
      "\n"
     ]
    }
   ],
   "source": [
    "help(model.fit)"
   ]
  },
  {
   "cell_type": "code",
   "execution_count": 43,
   "metadata": {},
   "outputs": [
    {
     "data": {
      "text/plain": [
       "(60000, 10)"
      ]
     },
     "execution_count": 43,
     "metadata": {},
     "output_type": "execute_result"
    }
   ],
   "source": [
    "pred_y_train = model.predict(X_train)\n",
    "pred_y_train.shape"
   ]
  },
  {
   "cell_type": "code",
   "execution_count": 44,
   "metadata": {},
   "outputs": [
    {
     "data": {
      "text/plain": [
       "0.9946680578718958"
      ]
     },
     "execution_count": 44,
     "metadata": {},
     "output_type": "execute_result"
    }
   ],
   "source": [
    "(pred_y_train*y_train).sum()/len(y_train) # score of train"
   ]
  },
  {
   "cell_type": "code",
   "execution_count": 45,
   "metadata": {},
   "outputs": [
    {
     "data": {
      "text/plain": [
       "(10000, 10)"
      ]
     },
     "execution_count": 45,
     "metadata": {},
     "output_type": "execute_result"
    }
   ],
   "source": [
    "pred_y_test = model.predict(X_test)\n",
    "pred_y_test.shape"
   ]
  },
  {
   "cell_type": "code",
   "execution_count": 46,
   "metadata": {},
   "outputs": [
    {
     "data": {
      "text/plain": [
       "0.9781464643494854"
      ]
     },
     "execution_count": 46,
     "metadata": {},
     "output_type": "execute_result"
    }
   ],
   "source": [
    "(pred_y_test*y_test).sum()/len(y_test) # score of test"
   ]
  },
  {
   "cell_type": "markdown",
   "metadata": {},
   "source": [
    "> **연습문제**\n",
    "> - 오류가 발생한 이미지를 출력하시오"
   ]
  },
  {
   "cell_type": "code",
   "execution_count": 49,
   "metadata": {},
   "outputs": [],
   "source": [
    "pred_y_train = model.predict(X_train)"
   ]
  },
  {
   "cell_type": "code",
   "execution_count": 51,
   "metadata": {},
   "outputs": [
    {
     "data": {
      "text/plain": [
       "array([5, 0, 4, ..., 5, 6, 8], dtype=int64)"
      ]
     },
     "execution_count": 51,
     "metadata": {},
     "output_type": "execute_result"
    }
   ],
   "source": [
    "pred_y_train.argmax(axis=1)"
   ]
  },
  {
   "cell_type": "code",
   "execution_count": 52,
   "metadata": {},
   "outputs": [
    {
     "data": {
      "text/plain": [
       "array([5, 0, 4, ..., 5, 6, 8], dtype=int64)"
      ]
     },
     "execution_count": 52,
     "metadata": {},
     "output_type": "execute_result"
    }
   ],
   "source": [
    "y_train.argmax(axis=1)"
   ]
  },
  {
   "cell_type": "code",
   "execution_count": 58,
   "metadata": {
    "collapsed": true
   },
   "outputs": [
    {
     "data": {
      "text/plain": [
       "array([ 1021,  5065,  7584,  7784,  8491,  8866,  8952,  9727,  9774,\n",
       "       10644, 11080, 13508, 14881, 15106, 17908, 20624, 21144, 31070,\n",
       "       31123, 31562, 32288, 32297, 32323, 33000, 33306, 35051, 35405,\n",
       "       37145, 39466, 40620, 42758, 43702, 45477, 45586, 45968, 48091,\n",
       "       48102, 48228, 48258, 48341, 48352, 48431, 48454, 48460, 48486,\n",
       "       48494, 48524, 48546, 48594, 48614, 48662, 48681, 48786, 48881,\n",
       "       48930, 48953, 48966, 48975, 48990, 49002, 49006, 49014, 49064,\n",
       "       49067, 49070, 49164, 49200, 49212, 49217, 49300, 49318, 49324,\n",
       "       49355, 49464, 49487, 49493, 49498, 49500, 49514, 49515, 49543,\n",
       "       49549, 49563, 49573, 49599, 49662, 49744, 49842, 49868, 49889,\n",
       "       49890, 49892, 49893, 49895, 50005, 50218, 50239, 50317, 50320,\n",
       "       50329, 50340, 50361, 50373, 50391, 50417, 50428, 50446, 50500,\n",
       "       50514, 50522, 50560, 50574, 50608, 50644, 50676, 50714, 50728,\n",
       "       50747, 50801, 50819, 50897, 50982, 50994, 51054, 51164, 51180,\n",
       "       51230, 51248, 51298, 51300, 51346, 51356, 51362, 51398, 51476,\n",
       "       51600, 51640, 51698, 51740, 51764, 51780, 51863, 51944, 51993,\n",
       "       52086, 52129, 52138, 52140, 52160, 52218, 52236, 52272, 52294,\n",
       "       52324, 52394, 52399, 52422, 52548, 52600, 52674, 52726, 52800,\n",
       "       52808, 52851, 52854, 52899, 52914, 52927, 52938, 52947, 52953,\n",
       "       52968, 52976, 52981, 53017, 53063, 53098, 53156, 53216, 53312,\n",
       "       53470, 53476, 53507, 53570, 53612, 53638, 53680, 53694, 53736,\n",
       "       53746, 53784, 53806, 53852, 53873, 53906, 53910, 53975, 53976,\n",
       "       53999, 54074, 54097, 54195, 54264, 54296, 54306, 54342, 54378,\n",
       "       54394, 54408, 54452, 54458, 54482, 54492, 54506, 54531, 54586,\n",
       "       54814, 54834, 54858, 54888, 54917, 54949, 54960, 55168, 55188,\n",
       "       55194, 55206, 55244, 55340, 55450, 55649, 55729, 55739, 55804,\n",
       "       55814, 55886, 55974, 56014, 56066, 56082, 56152, 56191, 56222,\n",
       "       56224, 56228, 56268, 56292, 56346, 56380, 56452, 56480, 56596,\n",
       "       56773, 56838, 56888, 56914, 57054, 57055, 57076, 57082, 57087,\n",
       "       57199, 57245, 57256, 57282, 57311, 57312, 57342, 57378, 57486,\n",
       "       57507, 57523, 57574, 57575, 57662, 57683, 57728, 57731, 57774,\n",
       "       57808, 57938, 57972, 58022, 58048, 58060, 58064, 58094, 58101,\n",
       "       58154, 58249, 58316, 58560, 58648, 58653, 58788, 58802, 58822,\n",
       "       58871, 58874, 58926, 59158, 59289, 59297, 59312, 59314, 59401,\n",
       "       59653, 59681, 59701, 59718, 59719, 59720, 59726, 59731, 59747,\n",
       "       59915], dtype=int64)"
      ]
     },
     "execution_count": 58,
     "metadata": {},
     "output_type": "execute_result"
    }
   ],
   "source": [
    "bad = np.where(pred_y_train.argmax(axis=1) != y_train.argmax(axis=1))[0]\n",
    "bad"
   ]
  },
  {
   "cell_type": "code",
   "execution_count": 63,
   "metadata": {},
   "outputs": [
    {
     "name": "stderr",
     "output_type": "stream",
     "text": [
      "C:\\Users\\user\\anaconda3\\lib\\site-packages\\matplotlib\\text.py:1163: FutureWarning: elementwise comparison failed; returning scalar instead, but in the future will perform elementwise comparison\n",
      "  if s != self._text:\n"
     ]
    },
    {
     "data": {
      "text/plain": [
       "Text(0.5, 1.0, '[0. 0. 0. 1. 0. 0. 0. 0. 0. 0.]')"
      ]
     },
     "execution_count": 63,
     "metadata": {},
     "output_type": "execute_result"
    },
    {
     "data": {
      "image/png": "[encoded data removed]",
      "text/plain": [
       "<Figure size 432x288 with 1 Axes>"
      ]
     },
     "metadata": {
      "needs_background": "light"
     },
     "output_type": "display_data"
    }
   ],
   "source": [
    "plt.imshow(X_train[7584].reshape(28,28), cmap='gray_r')\n",
    "plt.title(y_train[7584])"
   ]
  },
  {
   "cell_type": "code",
   "execution_count": null,
   "metadata": {},
   "outputs": [],
   "source": []
  },
  {
   "cell_type": "code",
   "execution_count": null,
   "metadata": {},
   "outputs": [],
   "source": []
  },
  {
   "cell_type": "markdown",
   "metadata": {},
   "source": [
    "### 모델 저장"
   ]
  },
  {
   "cell_type": "code",
   "execution_count": 47,
   "metadata": {},
   "outputs": [],
   "source": [
    "model.save('mnist_model_01.h5') # creates a HDF5 file"
   ]
  },
  {
   "cell_type": "code",
   "execution_count": 39,
   "metadata": {},
   "outputs": [],
   "source": [
    "from keras.models import load_model\n",
    "\n",
    "model2 = load_model('mnist_model_01.h5')"
   ]
  },
  {
   "cell_type": "code",
   "execution_count": 42,
   "metadata": {},
   "outputs": [
    {
     "name": "stdout",
     "output_type": "stream",
     "text": [
      "_________________________________________________________________\n",
      "Layer (type)                 Output Shape              Param #   \n",
      "=================================================================\n",
      "dense_3 (Dense)              (None, 128)               100480    \n",
      "_________________________________________________________________\n",
      "dense_4 (Dense)              (None, 256)               33024     \n",
      "_________________________________________________________________\n",
      "dense_5 (Dense)              (None, 256)               65792     \n",
      "_________________________________________________________________\n",
      "dense_6 (Dense)              (None, 10)                2570      \n",
      "=================================================================\n",
      "Total params: 201,866\n",
      "Trainable params: 201,866\n",
      "Non-trainable params: 0\n",
      "_________________________________________________________________\n"
     ]
    }
   ],
   "source": [
    "model2.summary()"
   ]
  },
  {
   "cell_type": "code",
   "execution_count": 40,
   "metadata": {},
   "outputs": [
    {
     "data": {
      "text/plain": [
       "array([[1.7897082e-18, 1.2604499e-14, 1.4408841e-12, ..., 1.0000000e+00,\n",
       "        1.5553001e-17, 8.6794649e-10],\n",
       "       [2.2513420e-24, 1.3519225e-10, 1.0000000e+00, ..., 3.6946021e-16,\n",
       "        4.7015980e-20, 1.3197994e-25],\n",
       "       [1.9272220e-10, 9.9997580e-01, 1.7852156e-07, ..., 2.1316106e-05,\n",
       "        2.4139629e-08, 4.9846496e-09],\n",
       "       ...,\n",
       "       [1.1987138e-27, 4.3853409e-23, 5.8669306e-25, ..., 1.4196603e-16,\n",
       "        3.5619537e-23, 8.0281834e-15],\n",
       "       [8.6556915e-25, 2.5036305e-26, 1.9347526e-25, ..., 1.2481194e-22,\n",
       "        1.9484564e-16, 3.3102383e-25],\n",
       "       [2.1923046e-24, 1.4936362e-32, 1.3257251e-30, ..., 4.9728456e-38,\n",
       "        1.6158497e-25, 1.5502201e-29]], dtype=float32)"
      ]
     },
     "execution_count": 40,
     "metadata": {},
     "output_type": "execute_result"
    }
   ],
   "source": [
    "model2.predict(X_test)"
   ]
  },
  {
   "cell_type": "markdown",
   "metadata": {},
   "source": [
    "- 가중치 저장 및 로딩"
   ]
  },
  {
   "cell_type": "code",
   "execution_count": null,
   "metadata": {},
   "outputs": [],
   "source": [
    "model.save_weights(\"mnist_weights_01.h5\")\n",
    "model2.load_weights(\"mnist_weights_01.h5\")"
   ]
  },
  {
   "cell_type": "code",
   "execution_count": null,
   "metadata": {},
   "outputs": [],
   "source": []
  },
  {
   "cell_type": "markdown",
   "metadata": {},
   "source": [
    "### Flatten\n",
    "- 출력값을 1차원으로 풀어준다"
   ]
  },
  {
   "cell_type": "code",
   "execution_count": 31,
   "metadata": {},
   "outputs": [
    {
     "data": {
      "text/plain": [
       "((60000, 28, 28), (60000,), (10000, 28, 28), (10000,))"
      ]
     },
     "execution_count": 31,
     "metadata": {},
     "output_type": "execute_result"
    }
   ],
   "source": [
    "(X_train, y_train), (X_test, y_test) = keras.datasets.mnist.load_data()\n",
    "X_train.shape, y_train.shape, X_test.shape, y_test.shape"
   ]
  },
  {
   "cell_type": "code",
   "execution_count": 32,
   "metadata": {},
   "outputs": [],
   "source": [
    "X_train = X_train/255\n",
    "X_test = X_test/255"
   ]
  },
  {
   "cell_type": "code",
   "execution_count": 6,
   "metadata": {},
   "outputs": [],
   "source": [
    "from tensorflow.keras.layers import Flatten"
   ]
  },
  {
   "cell_type": "code",
   "execution_count": 34,
   "metadata": {},
   "outputs": [],
   "source": [
    "model = Sequential()\n",
    "model.add(Flatten(input_shape=(28,28)))\n",
    "model.add(Dense(128, activation='relu'))\n",
    "model.add(Dense(256, activation='relu'))\n",
    "model.add(Dense(256, activation='relu'))\n",
    "model.add(Dense(10, activation='softmax'))"
   ]
  },
  {
   "cell_type": "code",
   "execution_count": 35,
   "metadata": {},
   "outputs": [
    {
     "name": "stdout",
     "output_type": "stream",
     "text": [
      "Model: \"sequential_2\"\n",
      "_________________________________________________________________\n",
      "Layer (type)                 Output Shape              Param #   \n",
      "=================================================================\n",
      "flatten (Flatten)            (None, 784)               0         \n",
      "_________________________________________________________________\n",
      "dense_5 (Dense)              (None, 128)               100480    \n",
      "_________________________________________________________________\n",
      "dense_6 (Dense)              (None, 256)               33024     \n",
      "_________________________________________________________________\n",
      "dense_7 (Dense)              (None, 256)               65792     \n",
      "_________________________________________________________________\n",
      "dense_8 (Dense)              (None, 10)                2570      \n",
      "=================================================================\n",
      "Total params: 201,866\n",
      "Trainable params: 201,866\n",
      "Non-trainable params: 0\n",
      "_________________________________________________________________\n"
     ]
    }
   ],
   "source": [
    "model.summary()"
   ]
  },
  {
   "cell_type": "code",
   "execution_count": 52,
   "metadata": {},
   "outputs": [
    {
     "name": "stdout",
     "output_type": "stream",
     "text": [
      "Train on 48000 samples, validate on 12000 samples\n",
      "Epoch 1/2\n",
      "48000/48000 [==============================] - 14s 296us/step - loss: 0.3087 - acc: 0.9046 - val_loss: 0.1806 - val_acc: 0.9437\n",
      "Epoch 2/2\n",
      "48000/48000 [==============================] - 13s 270us/step - loss: 0.1212 - acc: 0.9628 - val_loss: 0.1149 - val_acc: 0.9656\n"
     ]
    },
    {
     "data": {
      "text/plain": [
       "<keras.callbacks.History at 0x2678a4c04a8>"
      ]
     },
     "execution_count": 52,
     "metadata": {},
     "output_type": "execute_result"
    }
   ],
   "source": [
    "model.compile(loss='categorical_crossentropy', optimizer='rmsprop', metrics=['acc'])\n",
    "model.fit(X_train, np.eye(10)[y_train], epochs=2, batch_size=128, validation_split=0.2)"
   ]
  },
  {
   "cell_type": "code",
   "execution_count": 53,
   "metadata": {},
   "outputs": [],
   "source": [
    "pred_y_train = model.predict(X_train)"
   ]
  },
  {
   "cell_type": "code",
   "execution_count": 54,
   "metadata": {},
   "outputs": [
    {
     "data": {
      "text/plain": [
       "0.9737"
      ]
     },
     "execution_count": 54,
     "metadata": {},
     "output_type": "execute_result"
    }
   ],
   "source": [
    "(pred_y_train.argmax(axis=1)==y_train).mean()"
   ]
  },
  {
   "cell_type": "code",
   "execution_count": null,
   "metadata": {},
   "outputs": [],
   "source": []
  },
  {
   "cell_type": "markdown",
   "metadata": {},
   "source": [
    "### Dropout\n",
    "- Dropout 은 고의적으로 중간 단계의 출력값 들을 누락시키는 것이다.\n",
    "- 이렇게 하면 모델이 좀 더 예외상황에 견딜 수 있게 하여, 새로운 데이터에 대한 예측 능력을 키울 수 있다고 알려져 있다.\n",
    "- 사진의 일부분을 가리거나 시야가 흐릿해 지는 등의 효과와 비슷하다.\n",
    "- 여러가지 예외사항에 대처가 가능한 강건한 모델을 만들 수 있다.\n",
    "- 훈련시에는 출력값을 누락시키지만, 검증시에는 모든 출력값을 사용한다. (단 누락비율에 맞게 출력값을 줄여준다)"
   ]
  },
  {
   "cell_type": "code",
   "execution_count": 7,
   "metadata": {},
   "outputs": [
    {
     "data": {
      "text/plain": [
       "((60000, 28, 28), (60000,), (10000, 28, 28), (10000,))"
      ]
     },
     "execution_count": 7,
     "metadata": {},
     "output_type": "execute_result"
    }
   ],
   "source": [
    "(X_train, y_train), (X_test, y_test) = keras.datasets.mnist.load_data()\n",
    "X_train.shape, y_train.shape, X_test.shape, y_test.shape"
   ]
  },
  {
   "cell_type": "code",
   "execution_count": 8,
   "metadata": {},
   "outputs": [],
   "source": [
    "X_train = X_train/255\n",
    "X_test = X_test/255"
   ]
  },
  {
   "cell_type": "code",
   "execution_count": 9,
   "metadata": {},
   "outputs": [],
   "source": [
    "from tensorflow.keras.layers import Dropout"
   ]
  },
  {
   "cell_type": "code",
   "execution_count": 10,
   "metadata": {},
   "outputs": [],
   "source": [
    "model = Sequential()\n",
    "model.add(Flatten(input_shape=(28,28)))\n",
    "model.add(Dense(128, activation='relu'))\n",
    "model.add(Dropout(0.5))\n",
    "model.add(Dense(256, activation='relu'))\n",
    "model.add(Dropout(0.5))\n",
    "model.add(Dense(256, activation='relu'))\n",
    "model.add(Dropout(0.25))\n",
    "model.add(Dense(10, activation='softmax'))"
   ]
  },
  {
   "cell_type": "code",
   "execution_count": 11,
   "metadata": {},
   "outputs": [
    {
     "name": "stdout",
     "output_type": "stream",
     "text": [
      "Model: \"sequential\"\n",
      "_________________________________________________________________\n",
      "Layer (type)                 Output Shape              Param #   \n",
      "=================================================================\n",
      "flatten (Flatten)            (None, 784)               0         \n",
      "_________________________________________________________________\n",
      "dense (Dense)                (None, 128)               100480    \n",
      "_________________________________________________________________\n",
      "dropout (Dropout)            (None, 128)               0         \n",
      "_________________________________________________________________\n",
      "dense_1 (Dense)              (None, 256)               33024     \n",
      "_________________________________________________________________\n",
      "dropout_1 (Dropout)          (None, 256)               0         \n",
      "_________________________________________________________________\n",
      "dense_2 (Dense)              (None, 256)               65792     \n",
      "_________________________________________________________________\n",
      "dropout_2 (Dropout)          (None, 256)               0         \n",
      "_________________________________________________________________\n",
      "dense_3 (Dense)              (None, 10)                2570      \n",
      "=================================================================\n",
      "Total params: 201,866\n",
      "Trainable params: 201,866\n",
      "Non-trainable params: 0\n",
      "_________________________________________________________________\n"
     ]
    }
   ],
   "source": [
    "model.summary()"
   ]
  },
  {
   "cell_type": "code",
   "execution_count": 12,
   "metadata": {
    "scrolled": true
   },
   "outputs": [
    {
     "name": "stdout",
     "output_type": "stream",
     "text": [
      "Epoch 1/30\n",
      "375/375 [==============================] - 4s 9ms/step - loss: 0.9604 - acc: 0.6803 - val_loss: 0.2048 - val_acc: 0.9398\n",
      "Epoch 2/30\n",
      "375/375 [==============================] - 3s 7ms/step - loss: 0.3312 - acc: 0.9016 - val_loss: 0.1658 - val_acc: 0.9506\n",
      "Epoch 3/30\n",
      "375/375 [==============================] - 3s 7ms/step - loss: 0.2688 - acc: 0.9211 - val_loss: 0.1512 - val_acc: 0.9582\n",
      "Epoch 4/30\n",
      "375/375 [==============================] - 3s 7ms/step - loss: 0.2392 - acc: 0.9319 - val_loss: 0.1343 - val_acc: 0.9637\n",
      "Epoch 5/30\n",
      "375/375 [==============================] - 3s 7ms/step - loss: 0.2234 - acc: 0.9364 - val_loss: 0.1297 - val_acc: 0.9653\n",
      "Epoch 6/30\n",
      "375/375 [==============================] - 3s 7ms/step - loss: 0.2070 - acc: 0.9403 - val_loss: 0.1285 - val_acc: 0.9668\n",
      "Epoch 7/30\n",
      "375/375 [==============================] - 3s 7ms/step - loss: 0.1906 - acc: 0.9470 - val_loss: 0.1187 - val_acc: 0.9678\n",
      "Epoch 8/30\n",
      "375/375 [==============================] - 3s 7ms/step - loss: 0.1897 - acc: 0.9468 - val_loss: 0.1120 - val_acc: 0.9712\n",
      "Epoch 9/30\n",
      "375/375 [==============================] - 3s 7ms/step - loss: 0.1775 - acc: 0.9510 - val_loss: 0.1186 - val_acc: 0.9683\n",
      "Epoch 10/30\n",
      "375/375 [==============================] - 3s 7ms/step - loss: 0.1821 - acc: 0.9517 - val_loss: 0.1120 - val_acc: 0.9718\n",
      "Epoch 11/30\n",
      "375/375 [==============================] - 3s 7ms/step - loss: 0.1696 - acc: 0.9534 - val_loss: 0.1207 - val_acc: 0.9710\n",
      "Epoch 12/30\n",
      "375/375 [==============================] - 3s 7ms/step - loss: 0.1773 - acc: 0.9519 - val_loss: 0.1215 - val_acc: 0.9708\n",
      "Epoch 13/30\n",
      "375/375 [==============================] - 3s 7ms/step - loss: 0.1720 - acc: 0.9517 - val_loss: 0.1175 - val_acc: 0.9722\n",
      "Epoch 14/30\n",
      "375/375 [==============================] - 3s 7ms/step - loss: 0.1684 - acc: 0.9557 - val_loss: 0.1204 - val_acc: 0.9734\n",
      "Epoch 15/30\n",
      "375/375 [==============================] - 3s 7ms/step - loss: 0.1613 - acc: 0.9564 - val_loss: 0.1192 - val_acc: 0.9734\n",
      "Epoch 16/30\n",
      "375/375 [==============================] - 3s 7ms/step - loss: 0.1675 - acc: 0.9561 - val_loss: 0.1235 - val_acc: 0.9718\n",
      "Epoch 17/30\n",
      "375/375 [==============================] - 3s 7ms/step - loss: 0.1713 - acc: 0.9552 - val_loss: 0.1247 - val_acc: 0.9733\n",
      "Epoch 18/30\n",
      "375/375 [==============================] - 3s 7ms/step - loss: 0.1598 - acc: 0.9583 - val_loss: 0.1172 - val_acc: 0.9734\n",
      "Epoch 19/30\n",
      "375/375 [==============================] - 3s 7ms/step - loss: 0.1585 - acc: 0.9587 - val_loss: 0.1201 - val_acc: 0.9730\n",
      "Epoch 20/30\n",
      "375/375 [==============================] - 3s 8ms/step - loss: 0.1555 - acc: 0.9595 - val_loss: 0.1155 - val_acc: 0.9736\n",
      "Epoch 21/30\n",
      "375/375 [==============================] - 3s 7ms/step - loss: 0.1525 - acc: 0.9607 - val_loss: 0.1202 - val_acc: 0.9732\n",
      "Epoch 22/30\n",
      "375/375 [==============================] - 3s 8ms/step - loss: 0.1551 - acc: 0.9586 - val_loss: 0.1227 - val_acc: 0.9752\n",
      "Epoch 23/30\n",
      "375/375 [==============================] - 3s 7ms/step - loss: 0.1559 - acc: 0.9579 - val_loss: 0.1148 - val_acc: 0.9745\n",
      "Epoch 24/30\n",
      "375/375 [==============================] - 3s 7ms/step - loss: 0.1555 - acc: 0.9593 - val_loss: 0.1302 - val_acc: 0.9720\n",
      "Epoch 25/30\n",
      "375/375 [==============================] - 3s 7ms/step - loss: 0.1511 - acc: 0.9605 - val_loss: 0.1203 - val_acc: 0.9730\n",
      "Epoch 26/30\n",
      "375/375 [==============================] - 3s 7ms/step - loss: 0.1442 - acc: 0.9613 - val_loss: 0.1301 - val_acc: 0.9741\n",
      "Epoch 27/30\n",
      "375/375 [==============================] - 3s 7ms/step - loss: 0.1490 - acc: 0.9630 - val_loss: 0.1299 - val_acc: 0.9732\n",
      "Epoch 28/30\n",
      "375/375 [==============================] - 3s 7ms/step - loss: 0.1538 - acc: 0.9630 - val_loss: 0.1256 - val_acc: 0.9745\n",
      "Epoch 29/30\n",
      "375/375 [==============================] - 3s 8ms/step - loss: 0.1498 - acc: 0.9620 - val_loss: 0.1219 - val_acc: 0.9747\n",
      "Epoch 30/30\n",
      "375/375 [==============================] - 3s 8ms/step - loss: 0.1433 - acc: 0.9618 - val_loss: 0.1311 - val_acc: 0.9739\n"
     ]
    }
   ],
   "source": [
    "model.compile(loss='categorical_crossentropy', optimizer='rmsprop', metrics=['acc'])\n",
    "history = model.fit(X_train, np.eye(10)[y_train], epochs=30, batch_size=128, validation_split=0.2)"
   ]
  },
  {
   "cell_type": "code",
   "execution_count": 13,
   "metadata": {},
   "outputs": [
    {
     "data": {
      "text/plain": [
       "0.98575"
      ]
     },
     "execution_count": 13,
     "metadata": {},
     "output_type": "execute_result"
    }
   ],
   "source": [
    "pred_y_train = model.predict(X_train)\n",
    "(pred_y_train.argmax(axis=1)==y_train).mean()"
   ]
  },
  {
   "cell_type": "code",
   "execution_count": 14,
   "metadata": {},
   "outputs": [
    {
     "data": {
      "text/plain": [
       "0.9764"
      ]
     },
     "execution_count": 14,
     "metadata": {},
     "output_type": "execute_result"
    }
   ],
   "source": [
    "pred_y_test = model.predict(X_test)\n",
    "(pred_y_test.argmax(axis=1)==y_test).mean()"
   ]
  },
  {
   "cell_type": "code",
   "execution_count": 15,
   "metadata": {},
   "outputs": [
    {
     "data": {
      "text/plain": [
       "<matplotlib.legend.Legend at 0x252aba74148>"
      ]
     },
     "execution_count": 15,
     "metadata": {},
     "output_type": "execute_result"
    },
    {
     "data": {
      "image/png": "[encoded data removed]",
      "text/plain": [
       "<Figure size 720x360 with 2 Axes>"
      ]
     },
     "metadata": {
      "needs_background": "light"
     },
     "output_type": "display_data"
    }
   ],
   "source": [
    "plt.figure(figsize=[10,5])\n",
    "\n",
    "plt.subplot(1,2,1)\n",
    "plt.plot(history.history['loss'])\n",
    "plt.plot(history.history['val_loss'])\n",
    "plt.title('Loss')\n",
    "plt.xlabel('epoch')\n",
    "plt.legend(['loss','val_loss'])\n",
    "\n",
    "plt.subplot(1,2,2)\n",
    "plt.plot(history.history['acc'])\n",
    "plt.plot(history.history['val_acc'])\n",
    "plt.title('Accuracy')\n",
    "plt.xlabel('epoch')\n",
    "plt.legend(['acc','val_acc'])"
   ]
  },
  {
   "cell_type": "markdown",
   "metadata": {},
   "source": [
    "- 훈련데이터는 드랍아웃을 적용했기 때문에 드랍아웃을 적용하지 않은 검증데이터보다 손실이 크다"
   ]
  }
 ],
 "metadata": {
  "kernelspec": {
   "display_name": "Python 3",
   "language": "python",
   "name": "python3"
  },
  "language_info": {
   "codemirror_mode": {
    "name": "ipython",
    "version": 3
   },
   "file_extension": ".py",
   "mimetype": "text/x-python",
   "name": "python",
   "nbconvert_exporter": "python",
   "pygments_lexer": "ipython3",
   "version": "3.7.6"
  }
 },
 "nbformat": 4,
 "nbformat_minor": 2
}
